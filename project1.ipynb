{
  "nbformat": 4,
  "nbformat_minor": 0,
  "metadata": {
    "colab": {
      "name": "project1.ipynb",
      "provenance": []
    },
    "kernelspec": {
      "name": "python3",
      "display_name": "Python 3"
    },
    "language_info": {
      "name": "python"
    }
  },
  "cells": [
    {
      "cell_type": "code",
      "metadata": {
        "colab": {
          "base_uri": "https://localhost:8080/"
        },
        "id": "7RExjXqdO4dX",
        "outputId": "3fa047f8-8a6a-4000-fb94-a080966bae0a"
      },
      "source": [
        "import numpy as np\n",
        "\n",
        "\n",
        "class ProjectOne:\n",
        "\n",
        "\n",
        "    def __init__(self, mang1, mang2):\n",
        "        self.mang1 = mang1\n",
        "        self.mang2 = mang2\n",
        "\n",
        "\n",
        "    def gia_tri_tb(self):\n",
        "        tong1 = 0\n",
        "        tong2 = 0\n",
        "        for i in self.mang1:\n",
        "            tong1 += i\n",
        "        for i in self.mang2:\n",
        "            tong2 += i\n",
        "        return tong1 / len(self.mang1), tong2 / len(self.mang2)\n",
        "\n",
        "\n",
        "    def mode(self):\n",
        "        mode1 = max(set(self.mang1), key=self.mang1.count)\n",
        "        mode2 = max(set(self.mang2), key=self.mang2.count)\n",
        "        return mode1, mode2\n",
        "\n",
        "\n",
        "    def phuong_sai(self):\n",
        "        y1 = 0\n",
        "        y2 = 0\n",
        "        for i in self.mang1:\n",
        "            y1 += (i - self.gia_tri_tb()[0]) ** 2\n",
        "        for i in self.mang2:\n",
        "            y2 += (i - self.gia_tri_tb()[1]) ** 2\n",
        "        return y1 / len(self.mang1), y2 / len(self.mang2)\n",
        "\n",
        "\n",
        "    def do_lech_chuan(self):\n",
        "        d1 = np.sqrt(self.phuong_sai()[0])\n",
        "        d2 = np.sqrt(self.phuong_sai()[1])\n",
        "        return d1, d2\n",
        "\n",
        "\n",
        "PJ = ProjectOne([-5, 7, 2, 9, 3, 9], [-15, 30, 14, 14, 54, -4])\n",
        "print(PJ.gia_tri_tb())\n",
        "print(PJ.mode())\n",
        "print(PJ.phuong_sai())\n",
        "print(PJ.do_lech_chuan())"
      ],
      "execution_count": 35,
      "outputs": [
        {
          "output_type": "stream",
          "text": [
            "(4.166666666666667, 15.5)\n",
            "(9, 14)\n",
            "(24.13888888888889, 501.25)\n",
            "(4.913134324327892, 22.38861317723811)\n"
          ],
          "name": "stdout"
        }
      ]
    }
  ]
}